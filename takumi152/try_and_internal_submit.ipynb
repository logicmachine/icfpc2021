{
 "cells": [
  {
   "cell_type": "code",
   "execution_count": 29,
   "metadata": {},
   "outputs": [],
   "source": [
    "import subprocess\n",
    "import json\n",
    "import re\n",
    "import time\n",
    "\n",
    "import requests\n",
    "from joblib import Parallel, delayed"
   ]
  },
  {
   "cell_type": "code",
   "execution_count": 30,
   "metadata": {},
   "outputs": [],
   "source": [
    "TEST_CASE_NUMBER = 78"
   ]
  },
  {
   "cell_type": "code",
   "execution_count": 38,
   "metadata": {},
   "outputs": [],
   "source": [
    "def test_case(case_number):\n",
    "    with open(f'in/{case_number}.in') as f:\n",
    "        res = subprocess.run(['./a'],\n",
    "                              stdin = f,\n",
    "                              capture_output = True)\n",
    "    with open(f'out/{case_number}.out', 'wb') as f:\n",
    "        f.write(res.stdout)\n",
    "        \n",
    "    vertices = []\n",
    "    for line in res.stdout.split(b'\\n'):\n",
    "        if line == '':\n",
    "            continue\n",
    "        row = []\n",
    "        for token in line.split():\n",
    "            if re.match(r'^\\d+$', token.decode('utf-8')):\n",
    "                row.append(int(token))\n",
    "            else:\n",
    "                row.append(token)\n",
    "        if row:\n",
    "            vertices.append(row)\n",
    "    \n",
    "    with open(f'pose/{case_number}.pose', 'w') as f:\n",
    "        f.write(json.dumps({'vertices': vertices}))\n",
    "    \n",
    "    # verify\n",
    "    res = subprocess.run(['python', '../server/evaluate.py', f'problem/{case_number}.problem', f'pose/{case_number}.pose'],\n",
    "                          capture_output = True)\n",
    "    if not res.stdout.split():\n",
    "        return None\n",
    "    if res.stdout.split()[0] == b'None':\n",
    "        return None\n",
    "    \n",
    "    return {'vertices': vertices}"
   ]
  },
  {
   "cell_type": "code",
   "execution_count": 32,
   "metadata": {},
   "outputs": [],
   "source": [
    "ENDPOINT = 'https://icfpc.logicmachine.jp'\n",
    "TOKEN = 'G5wh0MEeI4ASstafP4Ih'"
   ]
  },
  {
   "cell_type": "code",
   "execution_count": 33,
   "metadata": {},
   "outputs": [],
   "source": [
    "solution_all = Parallel(n_jobs=-1)([delayed(test_case)(case_number) for case_number in range(1, 1+TEST_CASE_NUMBER)])"
   ]
  },
  {
   "cell_type": "code",
   "execution_count": 34,
   "metadata": {},
   "outputs": [
    {
     "data": {
      "text/plain": [
       "[None,\n",
       " None,\n",
       " None,\n",
       " None,\n",
       " None,\n",
       " None,\n",
       " None,\n",
       " {'vertices': [[48, 30],\n",
       "   [36, 40],\n",
       "   [36, 45],\n",
       "   [41, 62],\n",
       "   [39, 75],\n",
       "   [54, 78],\n",
       "   [75, 34],\n",
       "   [50, 85],\n",
       "   [45, 86],\n",
       "   [54, 77],\n",
       "   [39, 74],\n",
       "   [42, 62],\n",
       "   [35, 25]]},\n",
       " None,\n",
       " None,\n",
       " None,\n",
       " None,\n",
       " None,\n",
       " None,\n",
       " None,\n",
       " None,\n",
       " None,\n",
       " None,\n",
       " None,\n",
       " None,\n",
       " None,\n",
       " None,\n",
       " None,\n",
       " None,\n",
       " None,\n",
       " None,\n",
       " None,\n",
       " None,\n",
       " {'vertices': [[20, 27], [35, 3], [35, 3], [15, 23]]},\n",
       " None,\n",
       " None,\n",
       " None,\n",
       " None,\n",
       " None,\n",
       " None,\n",
       " None,\n",
       " None,\n",
       " None,\n",
       " None,\n",
       " None,\n",
       " None,\n",
       " None,\n",
       " None,\n",
       " None,\n",
       " None,\n",
       " {'vertices': [[34, 60],\n",
       "   [53, 79],\n",
       "   [67, 73],\n",
       "   [57, 42],\n",
       "   [38, 57],\n",
       "   [45, 63],\n",
       "   [42, 29],\n",
       "   [36, 57],\n",
       "   [19, 77],\n",
       "   [17, 75],\n",
       "   [11, 50],\n",
       "   [47, 68]]},\n",
       " None,\n",
       " None,\n",
       " None,\n",
       " None,\n",
       " None,\n",
       " None,\n",
       " None,\n",
       " None,\n",
       " None,\n",
       " None,\n",
       " None,\n",
       " None,\n",
       " None,\n",
       " None,\n",
       " None,\n",
       " None,\n",
       " None,\n",
       " None,\n",
       " None,\n",
       " None,\n",
       " None,\n",
       " None,\n",
       " None,\n",
       " None,\n",
       " None,\n",
       " None,\n",
       " None,\n",
       " None,\n",
       " None,\n",
       " None,\n",
       " None,\n",
       " None]"
      ]
     },
     "execution_count": 34,
     "metadata": {},
     "output_type": "execute_result"
    }
   ],
   "source": [
    "solution_all"
   ]
  },
  {
   "cell_type": "code",
   "execution_count": 29,
   "metadata": {},
   "outputs": [
    {
     "name": "stdout",
     "output_type": "stream",
     "text": [
      "{'messages': ['Some edges are too compressed or stretched.'], 'score': None}\n"
     ]
    }
   ],
   "source": [
    "solution = solution_all[1-1]\n",
    "data = {\n",
    "    'solver': 'takumi152',\n",
    "    'solution': solution\n",
    "}\n",
    "r = requests.post(\n",
    "    ENDPOINT + f'/api/submit/{1}',\n",
    "    json.dumps(data),\n",
    "    headers = {\n",
    "        'Content-Type': 'application/json',\n",
    "        'Authorization': 'Bearer ' + TOKEN\n",
    "    })\n",
    "print(r.json())"
   ]
  },
  {
   "cell_type": "code",
   "execution_count": 35,
   "metadata": {},
   "outputs": [
    {
     "name": "stdout",
     "output_type": "stream",
     "text": [
      "{'messages': [], 'score': 3896}\n",
      "{'messages': [], 'score': 5560}\n",
      "{'messages': [], 'score': 4022}\n"
     ]
    }
   ],
   "source": [
    "for i in range(1, 1+TEST_CASE_NUMBER):\n",
    "    solution = solution_all[i-1]\n",
    "    if solution == None:\n",
    "        continue\n",
    "    data = {\n",
    "        'solver': 'takumi152',\n",
    "        'solution': solution\n",
    "    }\n",
    "    r = requests.post(\n",
    "        ENDPOINT + f'/api/submit/{i}',\n",
    "        json.dumps(data),\n",
    "        headers = {\n",
    "            'Content-Type': 'application/json',\n",
    "            'Authorization': 'Bearer ' + TOKEN\n",
    "        })\n",
    "    print(i, r.json())\n",
    "    time.sleep(0.1)"
   ]
  },
  {
   "cell_type": "code",
   "execution_count": null,
   "metadata": {},
   "outputs": [
    {
     "name": "stdout",
     "output_type": "stream",
     "text": [
      "2 {'messages': [], 'score': 3306}\n",
      "42 {'messages': [], 'score': 4168}\n",
      "46 {'messages': [], 'score': 5220}\n",
      "69 {'messages': [], 'score': 15303}\n",
      "72 {'messages': [], 'score': 18609}\n",
      "46 {'messages': [], 'score': 4524}\n",
      "66 {'messages': [], 'score': 38591}\n",
      "1 {'messages': [], 'score': 7867}\n",
      "46 {'messages': [], 'score': 4172}\n",
      "52 {'messages': [], 'score': 3828}\n",
      "42 {'messages': [], 'score': 2588}\n",
      "46 {'messages': [], 'score': 1902}\n",
      "61 {'messages': [], 'score': 35757}\n",
      "46 {'messages': [], 'score': 3971}\n",
      "69 {'messages': [], 'score': 14779}\n",
      "72 {'messages': [], 'score': 24018}\n",
      "46 {'messages': [], 'score': 3182}\n",
      "66 {'messages': [], 'score': 27371}\n",
      "72 {'messages': [], 'score': 21430}\n",
      "6 {'messages': [], 'score': 32504}\n",
      "46 {'messages': [], 'score': 2507}\n",
      "61 {'messages': [], 'score': 81483}\n",
      "45 {'messages': [], 'score': 9782}\n",
      "46 {'messages': [], 'score': 4526}\n"
     ]
    }
   ],
   "source": [
    "while True:\n",
    "    solution_all = Parallel(n_jobs=-1)([delayed(test_case)(case_number) for case_number in range(1, 1+TEST_CASE_NUMBER)])\n",
    "    for i in range(1, 1+TEST_CASE_NUMBER):\n",
    "        solution = solution_all[i-1]\n",
    "        if solution == None:\n",
    "            continue\n",
    "        data = {\n",
    "            'solver': 'takumi152',\n",
    "            'solution': solution\n",
    "        }\n",
    "        r = requests.post(\n",
    "            ENDPOINT + f'/api/submit/{i}',\n",
    "            json.dumps(data),\n",
    "            headers = {\n",
    "                'Content-Type': 'application/json',\n",
    "                'Authorization': 'Bearer ' + TOKEN\n",
    "            })\n",
    "        print(i, r.json())\n",
    "        time.sleep(0.1)"
   ]
  },
  {
   "cell_type": "code",
   "execution_count": null,
   "metadata": {},
   "outputs": [],
   "source": []
  }
 ],
 "metadata": {
  "kernelspec": {
   "display_name": "Python 3",
   "language": "python",
   "name": "python3"
  },
  "language_info": {
   "codemirror_mode": {
    "name": "ipython",
    "version": 3
   },
   "file_extension": ".py",
   "mimetype": "text/x-python",
   "name": "python",
   "nbconvert_exporter": "python",
   "pygments_lexer": "ipython3",
   "version": "3.7.3"
  }
 },
 "nbformat": 4,
 "nbformat_minor": 2
}
